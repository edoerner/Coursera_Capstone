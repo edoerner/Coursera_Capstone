{
    "cells": [
        {
            "cell_type": "markdown",
            "metadata": {
                "collapsed": true
            },
            "source": "# Finding a location for a Bike Shop in Santiago de Chile\n## Capstone Project - The Battle of the Neighborhoods - Part 1\n### Applied Data Science Capstone by IBM/Coursera\n\n#### Author - Edgardo Doerner"
        },
        {
            "cell_type": "markdown",
            "metadata": {},
            "source": "## Table of contents\n* [Introduction: Business Problem](#introduction)\n* [Data](#data)\n"
        },
        {
            "cell_type": "markdown",
            "metadata": {},
            "source": "\n\n## Introduction: Business Problem <a name=\"introduction\"></a>"
        },
        {
            "cell_type": "markdown",
            "metadata": {},
            "source": "In this project we will try to find an optimal location for a bike shop in Santiago de Chile.\n\nThe use of bikes in Santiago has steadily goind up during the last years, due to several reasons, including economic conveniance, environmental concerns and geographical advantages of the city, since most of the urban area is flat and therefore suitable for this means of transport. \n\nThis situation gives to the stakeholders **a business oportunity** that we would like to describe and develop in this report.\n\nTherefore, we will try to detect **locations with no bike repair shops in the vicinity**. Additionaly, we would also prefer locations **as close to city center as possible**, assuming that the first condition is met.\n\nWe will use what we have learned during this course to define a few most promissing neighborhoods based on the aforementioned criteria. Advantages of each area will then be clearly expressed so that the stakeholders can choose **the best possible final location**."
        },
        {
            "cell_type": "markdown",
            "metadata": {},
            "source": "## Data <a name=\"data\"></a>"
        },
        {
            "cell_type": "markdown",
            "metadata": {},
            "source": "Based on definition of our problem, factors that will influence our decission are:\n* number of existing bike shops in the neighborhood\n* number of and distance to bike shops in the neighborhood, if any\n* distance of neighborhood from city center\n\nFollowing the examples given, we decided to use regularly spaced grid of locations, centered around city center, to define our neighborhoods. This is due to the sustainable size of the city, so we can define a radius from the city center instear of using the actual city neighborhoods.\n\nFollowing data sources will be needed to extract/generate the required information:\n* centers of candidate areas will be generated algorithmically and approximate addresses of centers of those areas will be obtained using **Google Maps API reverse geocoding**\n* number of bike shops and their type and location in every neighborhood will be obtained using **Foursquare API**\n* coordinate of Santiago center will be obtained using **Google Maps API geocoding** of well known Santiago location (Plaza de Armas, city main square)"
        }
    ],
    "metadata": {
        "kernelspec": {
            "display_name": "Python 3.5",
            "language": "python",
            "name": "python3"
        },
        "language_info": {
            "codemirror_mode": {
                "name": "ipython",
                "version": 3
            },
            "file_extension": ".py",
            "mimetype": "text/x-python",
            "name": "python",
            "nbconvert_exporter": "python",
            "pygments_lexer": "ipython3",
            "version": "3.5.5"
        }
    },
    "nbformat": 4,
    "nbformat_minor": 1
}
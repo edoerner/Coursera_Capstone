{
    "cells": [
        {
            "cell_type": "markdown",
            "metadata": {},
            "source": "# Capstone Project - The Battle of the Neighborhoods - Week 2 Report\n### The best place for a Beer Bar in Santiago de Chile"
        },
        {
            "cell_type": "markdown",
            "metadata": {},
            "source": "## Table of contents\n* [Introduction: Business Problem](#introduction)\n* [Data](#data)\n* [Methodology](#methodology)\n* [Analysis](#analysis)\n* [Results and Discussion](#results)\n* [Conclusion](#conclusion)"
        },
        {
            "cell_type": "markdown",
            "metadata": {},
            "source": "\n\n## Introduction: Business Problem <a name=\"introduction\"></a>"
        },
        {
            "cell_type": "markdown",
            "metadata": {},
            "source": "In this project we will try to find an optimal location for a Bar. Specifically, this report will be targeted to stakeholders interested in opening a **Beer Bar** in **Santiago**, Chile.\n\nSince there are lots of Bars in some sectors of Santiago we will try to detect **locations that are not already crowded with Bars**. We are also particularly interested in **areas with no Beer Bars in vicinity**. We would also prefer locations **as close to Plaza \u00d1u\u00f1oa as possible**, assuming that first two conditions are met. This city borough is very well known for its nightlife and other food and drinks venues.\n\nWe will use our data science powers to generate a few most promissing neighborhoods based on this criteria. Advantages of each area will then be clearly expressed so that best possible final location can be chosen by stakeholders."
        },
        {
            "cell_type": "markdown",
            "metadata": {},
            "source": "## Data <a name=\"data\"></a>"
        },
        {
            "cell_type": "markdown",
            "metadata": {},
            "source": "Based on definition of our problem, factors that will influence our decission are:\n* number of existing Bars in the neighborhood (any type of Bar)\n* number of and distance to Beer Bars in the neighborhood, if any\n* distance of neighborhood from location of interest\n\nWe decided to use regularly spaced grid of locations, centered around Plaza \u00d1u\u00f1oa, to define our neighborhoods.\n\nFollowing data sources will be needed to extract/generate the required information:\n* centers of candidate areas will be generated algorithmically and approximate addresses of centers of those areas will be obtained using **Google Maps API reverse geocoding**\n* number of Bars and their type and location in every neighborhood will be obtained using **Foursquare API**\n* coordinate of the location of interest in Santiago (around Plaza \u00d1u\u00f1oa) will be obtained using **Google Maps API geocoding** "
        },
        {
            "cell_type": "markdown",
            "metadata": {},
            "source": "### Neighborhood Candidates\n\nA 12x12 kilometers grid of cells, covering the area of interest and centered around Plaza \u00d1u\u00f1oa is created to analize our candidate neighborhoods. For each neighborhood the latitude and longitude coordinates are obtained using Google Maps geocoding API. \n\nFirst the area center is found using Plaza \u00d1u\u00f1oa address and then the grid of area candidates will be obtained. The candidates are within 6km from Plaza \u00d1u\u00f1oa and the neighborhoods will be defined as circular areas with a radius of 300 meters, therefore their centers will be 600 meters apart.\n\nTo accurately calculate distances we create our grid of locations in Cartesian 2D coordinate system which allows to calculate distances in meters (not in latitude/longitude degrees). Then those coordinates are projected back to latitude/longitude degrees. In order to convert between WGS84 spherical coordinate system (latitude/longitude degrees) and UTM Cartesian coordinate system (X/Y coordinates in  meters) specialized functions are created. \n\nOnce the grid is defined, the address of each candidate is obtained using Google Maps geocoding API."
        },
        {
            "cell_type": "markdown",
            "metadata": {},
            "source": "### Foursquare\n\nFoursquare API is used to get info on Bars in each neighborhood. The root category that contains Bar venues is 'Nightlife Spot' category, but we are intereset only in proper Bars. Restaurants, wine bars, lounges, among others, will be filtered out because they are not really competitors. Therefore, only venues that have 'Bar' (and related denominations) in category name are included, and all the subcategories of specific 'Beer Bar' category are included."
        },
        {
            "cell_type": "markdown",
            "metadata": {},
            "source": "## Methodology <a name=\"methodology\"></a>"
        },
        {
            "cell_type": "markdown",
            "metadata": {},
            "source": "The second step in this analysis is the calculation and exploration of '**Bar density**' across different areas of Santiago. **Heatmaps** will be used to identify a few promising areas close to Plaza \u00d1u\u00f1oa with low number of Bars in general (*and* no Beer Bars in vicinity) and focus our attention on those areas. The interest is in detecting areas of Santiago that have low Bar density, particularly those with low number of Beer Bars.\n\nIn third and final step we will focus on most promising areas and within those create **clusters of locations that meet some basic requirements** established in discussion with stakeholders: we will take into consideration locations with **no more than two Bars in radius of 250 meters**, and we want locations **without Beer Bars in radius of 400 meters**. We will present map of all such locations but also create clusters (using **k-means clustering**) of those locations to identify general zones / neighborhoods / addresses which should be a starting point for final 'street level' exploration and search for optimal venue location by stakeholders."
        },
        {
            "cell_type": "markdown",
            "metadata": {},
            "source": "## Analysis <a name=\"analysis\"></a>"
        },
        {
            "cell_type": "markdown",
            "metadata": {},
            "source": "For the gathered data it was found that **on average a Beer Bar can be found within ~750m** from every area center candidate. It is a reasonable distance, so it will be some flexibility in choosing the location candidates. \n\nFrom the heatmap showing the density of Bars it can be seen that there exists some locations with very low Bar density (or not information at all). There exist very high density pockets just in Plaza \u00d1u\u00f1oa and to the north west. It could be recognized some low pockets of low Bar density to the **north-east and east from Plaza \u00d1u\u00f1oa**. \n\nIf only the Beer Bars are considered, the resulting map shows a much lower density, due to the fact that Beer Bars represent a subset of ~18% of all bars in Santiag, but it also indicates higher density of existing Beer bars directly in and west of Plaza \u00d1u\u00f1oa, with closest pockets of **low Beer bars density positioned north-west and east from desired center**.\n\nBased on this the analysis is focused on areas *north-west from Plaza \u00d1u\u00f1oa* - the center of the area of interest is moved and its size is reduced to have a radius of **2.5km**. This places our location candidates mostly in the borough of **Providencia**."
        },
        {
            "cell_type": "markdown",
            "metadata": {},
            "source": "### Providencia\n\nAnalysis of popular travel guides and web sites often mention Providencia as beautifull, interesting, Santiago neighbourhoods. Also, these are Santiago boroughs with a higher income than other city areas, therefore they could be more attractive for the stake holders. Also they are relatively close to Plaza \u00d1u\u00f1oa and well connected, those boroughs appear to justify further analysis.\n\nIn order to analyze this neighborhood, a more dense grid of location candidates is created, restricted to the new region of interest. The location candidates will be 100m appart. The number of Bars in vicinity (using a radius of 250 meters) and distance to closest Beer Bar is calculated for each location candidate. The locations are filtered keeping only locations with no more than two Bars in a radius of 250 meters and no Beer Bars in radius of 400 meters. Then the locations are **clustered** to create **centers of zones containing good locations**. Those zones, their centers and addresses will be the final result of our analysis. "
        },
        {
            "cell_type": "markdown",
            "metadata": {},
            "source": "## Results and Discussion <a name=\"results\"></a>"
        },
        {
            "cell_type": "markdown",
            "metadata": {},
            "source": "This analysis shows that although there is a relatively high number of Bars in Santiago (~500 in our initial area of interest which was 12x12km around Plaza \u00d1u\u00f1oa), there are significant areas of low Bar density fairly close to Plaza \u00d1u\u00f1oa. Highest concentration of Bars was detected just in and west from Plaza \u00d1u\u00f1oa, so the analysis was focused to areas north and north-west, corresponding to the borough of Providencia. Providencia offers a combination of popularity among tourists, closeness to Plaza \u00d1u\u00f1oa, strong socio-economic dynamics *and* and significant areas of low Bar density.\n\nAfter directing the analysis to this more narrow area of interest (covering approx. 5x5km north-west from Plaza \u00d1u\u00f1oa) it was first created a dense grid of location candidates (spaced 100m appart); those locations were then filtered so that those with more than two Bars in radius of 250m and those with a Beer Bar closer than 400m were removed.\n\nThose location candidates were then clustered to create zones of interest which contain greatest number of location candidates. Addresses of centers of those zones were also generated using reverse geocoding to be used as markers/starting points for more detailed local analysis based on other factors.\n\nResult of all this is 15 zones containing largest number of potential new Bar locations based on number of and distance to existing venues - both Bars in general and Beer Bars particularly. This, of course, does not imply that those zones are actually optimal locations for a new Bar. Purpose of this analysis was to only provide info on areas close to Plaza \u00d1u\u00f1oa center but not crowded with existing Bars (particularly Beer ones) - it is entirely possible that there is a very good reason for small number of Bars in any of those areas (for example, that some of these areas are residential ones, and therefore not suitable for a Bar), reasons which would make them unsuitable for a new Bar regardless of lack of competition in the area. Recommended zones should therefore be considered only as a starting point for more detailed analysis which could eventually result in location which has not only no nearby competition but also other factors taken into account and all other relevant conditions met."
        },
        {
            "cell_type": "markdown",
            "metadata": {},
            "source": "## Conclusion <a name=\"conclusion\"></a>"
        },
        {
            "cell_type": "markdown",
            "metadata": {},
            "source": "Purpose of this project was to identify Santiago areas close to Plaza \u00d1u\u00f1oa with low number of Bars (particularly Beer Bars) in order to aid stakeholders in narrowing down the search for optimal location for a new Beer Bar. By calculating Bar density distribution from Foursquare data we have first identified general boroughs that justify further analysis (Providencia), and then generated extensive collection of locations which satisfy some basic requirements regarding existing nearby Bars. Clustering of those locations was then performed in order to create major zones of interest (containing greatest number of potential locations) and addresses of those zone centers were created to be used as starting points for final exploration by stakeholders."
        },
        {
            "cell_type": "code",
            "execution_count": null,
            "metadata": {},
            "outputs": [],
            "source": ""
        }
    ],
    "metadata": {
        "kernelspec": {
            "display_name": "Python 3.7",
            "language": "python",
            "name": "python3"
        },
        "language_info": {
            "codemirror_mode": {
                "name": "ipython",
                "version": 3
            },
            "file_extension": ".py",
            "mimetype": "text/x-python",
            "name": "python",
            "nbconvert_exporter": "python",
            "pygments_lexer": "ipython3",
            "version": "3.7.10"
        }
    },
    "nbformat": 4,
    "nbformat_minor": 4
}